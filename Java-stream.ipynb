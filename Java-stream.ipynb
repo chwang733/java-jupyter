{
 "cells": [
  {
   "cell_type": "markdown",
   "metadata": {},
   "source": [
    "## How to setup Java Jupyter Notebook\n",
    "https://github.com/SpencerPark/IJava"
   ]
  },
  {
   "cell_type": "code",
   "execution_count": 6,
   "metadata": {},
   "outputs": [],
   "source": [
    "import java.math.BigDecimal;\n",
    "\n",
    "public class Item {\n",
    "\n",
    "    private String name;\n",
    "    private int qty;\n",
    "    private BigDecimal price;\n",
    "\n",
    "    //constructors, getter/setters \n",
    "    public Item(String name,int qty,BigDecimal price){\n",
    "        this.name=name;\n",
    "        this.qty=qty;\n",
    "        this.price=price;\n",
    "    }\n",
    "    public String getName() {\n",
    "        return name;\n",
    "    }\n",
    "\n",
    "    public void setName(String name) {\n",
    "        this.name = name;\n",
    "    }\n",
    "    public int getQty() {\n",
    "        return qty;\n",
    "    }\n",
    "\n",
    "    public void setQty(int qty) {\n",
    "        this.qty = qty;\n",
    "    }\n",
    "    \n",
    "    public BigDecimal getPrice() {\n",
    "        return price;\n",
    "    }\n",
    "\n",
    "    public void setPrice(BigDecimal price) {\n",
    "        this.price = price;\n",
    "    }\n",
    "    public String toString(){\n",
    "        return name +\",\" + qty + \",\" + price;\n",
    "    }\n",
    "}\n"
   ]
  },
  {
   "cell_type": "markdown",
   "metadata": {},
   "source": [
    "## Groupby"
   ]
  },
  {
   "cell_type": "code",
   "execution_count": 7,
   "metadata": {},
   "outputs": [
    {
     "name": "stdout",
     "output_type": "stream",
     "text": [
      "{papaya=1, banana=2, apple=3, orang=1, watermelon=1}\n",
      "{papaya=20, banana=30, apple=40, orang=10, watermelon=10}\n",
      "{19.99=[banana,20,19.99, banana,10,19.99], 29.99=[orang,10,29.99, watermelon,10,29.99], 9.99=[apple,10,9.99, papaya,20,9.99, apple,10,9.99, apple,20,9.99]}\n",
      "{19.99=[banana], 29.99=[orang, watermelon], 9.99=[papaya, apple]}\n"
     ]
    }
   ],
   "source": [
    "import java.math.BigDecimal;\n",
    "import java.util.Arrays;\n",
    "import java.util.List;\n",
    "import java.util.Map;\n",
    "import java.util.stream.Collectors;\n",
    "\n",
    "\n",
    "//3 apple, 2 banana, others 1\n",
    "List<Item> items = Arrays.asList(\n",
    "        new Item(\"apple\", 10, new BigDecimal(\"9.99\")),\n",
    "        new Item(\"banana\", 20, new BigDecimal(\"19.99\")),\n",
    "        new Item(\"orang\", 10, new BigDecimal(\"29.99\")),\n",
    "        new Item(\"watermelon\", 10, new BigDecimal(\"29.99\")),\n",
    "        new Item(\"papaya\", 20, new BigDecimal(\"9.99\")),\n",
    "        new Item(\"apple\", 10, new BigDecimal(\"9.99\")),\n",
    "        new Item(\"banana\", 10, new BigDecimal(\"19.99\")),\n",
    "        new Item(\"apple\", 20, new BigDecimal(\"9.99\"))\n",
    ");\n",
    "\n",
    "\n",
    "Map<String, Long> counting = items.stream().collect(\n",
    "        Collectors.groupingBy(Item::getName, Collectors.counting()));\n",
    "\n",
    "System.out.println(counting);\n",
    "\n",
    "Map<String, Integer> sum = items.stream().collect(\n",
    "        Collectors.groupingBy(Item::getName, Collectors.summingInt(Item::getQty)));\n",
    "\n",
    "System.out.println(sum);\n",
    "\n",
    "//group by price\n",
    "Map<BigDecimal, List<Item>> groupByPriceMap = \n",
    "items.stream().collect(Collectors.groupingBy(Item::getPrice));\n",
    "\n",
    "System.out.println(groupByPriceMap);\n",
    "\n",
    "// group by price, uses 'mapping' to convert List<Item> to Set<String>\n",
    "Map<BigDecimal, Set<String>> result =\n",
    "    items.stream().collect(\n",
    "        Collectors.groupingBy(Item::getPrice,\n",
    "            Collectors.mapping(Item::getName, Collectors.toSet())\n",
    "        )\n",
    "    );\n",
    "\n",
    "System.out.println(result);\n",
    "\n",
    "\n"
   ]
  },
  {
   "cell_type": "markdown",
   "metadata": {},
   "source": [
    "## Filter single item returned"
   ]
  },
  {
   "cell_type": "code",
   "execution_count": 15,
   "metadata": {},
   "outputs": [
    {
     "name": "stdout",
     "output_type": "stream",
     "text": [
      "result 1 :apple,10,9.99\n"
     ]
    }
   ],
   "source": [
    "\n",
    "Item result1 = items.stream()\n",
    "        .filter((p) -> \"apple\".equals(p.getName()) )\n",
    "        .findAny()\n",
    "        .orElse(null);\n",
    "\n",
    "System.out.println(\"result 1 :\" + result1);\n",
    "\n"
   ]
  },
  {
   "cell_type": "markdown",
   "metadata": {},
   "source": [
    "## Filter + collect"
   ]
  },
  {
   "cell_type": "code",
   "execution_count": 16,
   "metadata": {},
   "outputs": [
    {
     "name": "stdout",
     "output_type": "stream",
     "text": [
      "1\n",
      "2\n",
      "4\n",
      "5\n",
      "spring\n",
      "node\n"
     ]
    }
   ],
   "source": [
    "import java.util.List;\n",
    "import java.util.stream.Collectors;\n",
    "import java.util.stream.Stream;\n",
    "\n",
    "Stream<Integer> number = Stream.of(1, 2, 3, 4, 5);\n",
    "\n",
    "List<Integer> result2 = number.filter(x -> x!= 3).collect(Collectors.toList());\n",
    "\n",
    "result2.forEach(x -> System.out.println(x));\n",
    "\n",
    "\n",
    "List<String> lines = Arrays.asList(\"spring\", \"node\", \"mkyong\");\n",
    "\n",
    "List<String> result = lines.stream()                // convert list to stream\n",
    "        .filter(line -> !\"mkyong\".equals(line))     // we dont like mkyong\n",
    "        .collect(Collectors.toList());              // collect the output and convert streams to a List\n",
    "\n",
    "result.forEach(System.out::println);  \n"
   ]
  },
  {
   "cell_type": "markdown",
   "metadata": {},
   "source": [
    "## Map"
   ]
  },
  {
   "cell_type": "code",
   "execution_count": 17,
   "metadata": {},
   "outputs": [
    {
     "name": "stdout",
     "output_type": "stream",
     "text": [
      "[2, 4, 6, 8, 10]\n"
     ]
    }
   ],
   "source": [
    "List<Integer> num = Arrays.asList(1,2,3,4,5);\n",
    "List<Integer> collect1 = num.stream().map(n -> n * 2).collect(Collectors.toList());\n",
    "System.out.println(collect1); //[2, 4, 6, 8, 10]\n"
   ]
  },
  {
   "cell_type": "code",
   "execution_count": null,
   "metadata": {},
   "outputs": [],
   "source": []
  }
 ],
 "metadata": {
  "kernelspec": {
   "display_name": "Java",
   "language": "java",
   "name": "java"
  },
  "language_info": {
   "codemirror_mode": "java",
   "file_extension": ".java",
   "mimetype": "text/x-java-source",
   "name": "Java",
   "pygments_lexer": "java",
   "version": "10.0.1+10"
  }
 },
 "nbformat": 4,
 "nbformat_minor": 2
}
